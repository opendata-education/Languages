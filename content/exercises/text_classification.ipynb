{
 "cells": [
  {
   "cell_type": "markdown",
   "metadata": {},
   "source": [
    "# Text classification"
   ]
  },
  {
   "cell_type": "markdown",
   "metadata": {},
   "source": [
    "In this exercise we will create a simple text classification system. We want our system to be able to determine if a sentence has a positive or a negative tone. For example, a sentence \"I love this sandwich.\" would be a positive sentence whereas \"I do not like this restaurant\" is an examples of a negative sentence.\n",
    "\n",
    "The classification in this case will be based on [Naive Bayes classifier](https://en.wikipedia.org/wiki/Naive_Bayes_classifier). The idea of the classification is the following:\n",
    "\n",
    "1. We create a database of sentences that are known to be either positive or negative.\n",
    "1. We create a classifier and train it using the data from our database.\n",
    "1. We define the sentence or sentences we want to evaluate.\n",
    "1. Based on individual words appearing in either the positive category or the negative category, the sentence is evaluated.\n",
    "\n",
    "Let's say, for example, that we have a database like in the table below:\n",
    "\n",
    "\n",
    "| Sentence | Category | \n",
    "|:---------|:--------:| \n",
    "| I love this sandwich. | pos |\n",
    "| this is an amazing place! | pos |\n",
    "| I feel very good about these beers. | pos |\n",
    "| this is my best work. | pos |\n",
    "| what an awesome view | pos |\n",
    "| I do not like this restaurant | neg |\n",
    "| I am tired of this stuff. | neg |\n",
    "| I can't deal with this\" | neg |\n",
    "| he is my sworn enemy! | neg |\n",
    "| my boss is horrible. | neg |\n",
    "\n",
    "This would be the training data and the sentences we would like to evaluate would be compared to these sentences. The more training data there is, the more accurate the results will be.\n",
    "\n",
    "If you're interested in the mathematics behind the algoritm, [read this](https://medium.com/syncedreview/applying-multinomial-naive-bayes-to-nlp-problems-a-practical-explanation-4f5271768ebf)."
   ]
  },
  {
   "cell_type": "markdown",
   "metadata": {},
   "source": [
    "##  Creating and training the classifier\n",
    "\n",
    "For this exercise, we will use a library called [textblob](https://textblob.readthedocs.io/en/dev/index.html) that contains practical tools for common natural language processing tasks. Textblob-library has a number of different classifiers to choose from. We will be using the [Naive Bayes Classifier](https://textblob.readthedocs.io/en/dev/api_reference.html#textblob.classifiers.NaiveBayesClassifier).\n",
    "\n",
    "We will define a set of training data, which contains sentences and their category (either 'pos' or 'neg') and feed the training data to the classifier."
   ]
  },
  {
   "cell_type": "code",
   "execution_count": null,
   "metadata": {},
   "outputs": [],
   "source": [
    "# import the classifier\n",
    "from textblob.classifiers import NaiveBayesClassifier"
   ]
  },
  {
   "cell_type": "code",
   "execution_count": null,
   "metadata": {},
   "outputs": [],
   "source": [
    "# Define training data\n",
    "train = [\n",
    "    ('I love this sandwich.', 'pos'),\n",
    "    ('this is an amazing place!', 'pos'),\n",
    "    ('I feel very good about these beers.', 'pos'),\n",
    "    ('this is my best work.', 'pos'),\n",
    "    ('what an awesome view', 'pos'),\n",
    "    ('I do not like this restaurant', 'neg'),\n",
    "    ('I am tired of this stuff.', 'neg'),\n",
    "    (\"I can't deal with this\", 'neg'),\n",
    "    ('he is my sworn enemy!', 'neg'),\n",
    "    ('my boss is horrible.', 'neg')\n",
    "]\n",
    "\n",
    "# Create the classifier and feed the training data.\n",
    "cl = NaiveBayesClassifier(train)"
   ]
  },
  {
   "cell_type": "markdown",
   "metadata": {},
   "source": [
    "## Testing the classifier\n",
    "\n",
    "Now that we have created and trained the classifier, we can test how well it performs.\n",
    "Let's write couple of sentences and test them using the [`classify()`](https://textblob.readthedocs.io/en/dev/api_reference.html#textblob.classifiers.NaiveBayesClassifier.classify)-method."
   ]
  },
  {
   "cell_type": "code",
   "execution_count": null,
   "metadata": {},
   "outputs": [],
   "source": [
    "# Define a test sentence and classify it\n",
    "cl.classify(\"This is an amazing library!\")"
   ]
  },
  {
   "cell_type": "markdown",
   "metadata": {},
   "source": [
    "It looks like the classifier works! At least in this case. Try another sentence yourself! Test for example, if the classifier can handle a negative sentence properly."
   ]
  },
  {
   "cell_type": "code",
   "execution_count": null,
   "metadata": {},
   "outputs": [],
   "source": []
  },
  {
   "cell_type": "markdown",
   "metadata": {},
   "source": [
    "We can also define a larger set of test sentences and see how accurately the classifier can classify those sentences. For this we need can use [`accuracy()`](https://textblob.readthedocs.io/en/dev/api_reference.html#textblob.classifiers.NaiveBayesClassifier.accuracy)-method."
   ]
  },
  {
   "cell_type": "code",
   "execution_count": null,
   "metadata": {},
   "outputs": [],
   "source": [
    "# Define test data similarly as the training data before\n",
    "test = [\n",
    "    ('the beer was good.', 'pos'),\n",
    "    ('I do not enjoy my job', 'neg'),\n",
    "    (\"I ain't feeling dandy today.\", 'neg'),\n",
    "    ('I feel amazing!', 'pos'),\n",
    "    ('Gary is a friend of mine.', 'pos'),\n",
    "    (\"I can't believe I'm doing this.\", 'neg')\n",
    " ]"
   ]
  },
  {
   "cell_type": "code",
   "execution_count": null,
   "metadata": {},
   "outputs": [],
   "source": [
    "# Test the accuracy of the classifier using test data.\n",
    "cl.accuracy(test)"
   ]
  },
  {
   "cell_type": "markdown",
   "metadata": {},
   "source": [
    "It looks like the classifier got 83% correct. Not too bad considering our small set of training data. We can also train our classifier more and see if we get different results. The classifier can further be trained using the [`update()`](https://textblob.readthedocs.io/en/dev/api_reference.html#textblob.classifiers.NaiveBayesClassifier.update)-method. Figure out how it works and make more train the classifier more! You can also check if the accuracy has improved after the training."
   ]
  },
  {
   "cell_type": "code",
   "execution_count": null,
   "metadata": {},
   "outputs": [],
   "source": []
  },
  {
   "cell_type": "markdown",
   "metadata": {},
   "source": [
    "## Playing with probabilities"
   ]
  },
  {
   "cell_type": "markdown",
   "metadata": {},
   "source": [
    "We can dig deeper into the probabilities of a sentence being positive or negative by using [`prob_classify()`](https://textblob.readthedocs.io/en/dev/api_reference.html#textblob.classifiers.NaiveBayesClassifier.prob_classify)-method. Let's try it out!"
   ]
  },
  {
   "cell_type": "code",
   "execution_count": null,
   "metadata": {},
   "outputs": [],
   "source": [
    "# Create a probability distribution from a sentence\n",
    "prob_dist = cl.prob_classify(\"This one's a doozy.\")"
   ]
  },
  {
   "cell_type": "code",
   "execution_count": null,
   "metadata": {},
   "outputs": [],
   "source": [
    "# Check the probability of the sentence being positive\n",
    "prob_dist.prob(\"pos\")"
   ]
  },
  {
   "cell_type": "code",
   "execution_count": null,
   "metadata": {},
   "outputs": [],
   "source": [
    "# Check the probability of the sentence being negative\n",
    "prob_dist.prob(\"neg\")"
   ]
  },
  {
   "cell_type": "markdown",
   "metadata": {},
   "source": [
    "Which category would be selected for the sentence 'This one's a doozy.'?"
   ]
  },
  {
   "cell_type": "markdown",
   "metadata": {},
   "source": [
    "Text classification is also possible for longer texts. See the example below!"
   ]
  },
  {
   "cell_type": "code",
   "execution_count": null,
   "metadata": {},
   "outputs": [],
   "source": [
    "# Let's define a larger text blob and use our classifier on it.\n",
    "from textblob import TextBlob\n",
    "blob = TextBlob(\"The beer is good. But the hangover is horrible.\", classifier=cl)\n",
    "blob.classify()"
   ]
  },
  {
   "cell_type": "code",
   "execution_count": null,
   "metadata": {},
   "outputs": [],
   "source": [
    "# We can also print all the sentences in the blob and classify them separately.\n",
    "for sentence in blob.sentences:\n",
    "    print(sentence)\n",
    "    print(sentence.classify())\n",
    "    print()"
   ]
  },
  {
   "cell_type": "markdown",
   "metadata": {},
   "source": [
    "Are you interested in learning more about Naive Bayes classification? Try this tutorial:\n",
    "\n",
    "[https://www.datacamp.com/community/tutorials/naive-bayes-scikit-learn](https://www.datacamp.com/community/tutorials/naive-bayes-scikit-learn)"
   ]
  }
 ],
 "metadata": {
  "kernelspec": {
   "display_name": "Python 3",
   "language": "python",
   "name": "python3"
  },
  "language_info": {
   "codemirror_mode": {
    "name": "ipython",
    "version": 3
   },
   "file_extension": ".py",
   "mimetype": "text/x-python",
   "name": "python",
   "nbconvert_exporter": "python",
   "pygments_lexer": "ipython3",
   "version": "3.8.5"
  }
 },
 "nbformat": 4,
 "nbformat_minor": 2
}
